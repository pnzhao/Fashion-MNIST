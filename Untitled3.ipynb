{
 "cells": [
  {
   "cell_type": "code",
   "execution_count": 2,
   "metadata": {},
   "outputs": [
    {
     "name": "stdout",
     "output_type": "stream",
     "text": [
      "(48000, 28, 28, 1)\n",
      "(10000, 28, 28, 1)\n"
     ]
    }
   ],
   "source": [
    "# -*- coding: utf-8 -*-\n",
    "\"\"\"\n",
    "Created on Fri Jan 11 13:59:32 2019\n",
    "\n",
    "@author: puning\n",
    "\"\"\"\n",
    "\n",
    "import tensorflow as tf\n",
    "from tensorflow import keras\n",
    "import numpy as np\n",
    "import matplotlib.pyplot as plt\n",
    "from tensorflow.keras.models import Sequential\n",
    "from tensorflow.keras.layers import Dense,Dropout,Flatten,Lambda\n",
    "from tensorflow.keras.layers import Conv2D,MaxPooling2D,BatchNormalization\n",
    "from tensorflow.keras.optimizers import Adam\n",
    "from tensorflow.keras.preprocessing.image import ImageDataGenerator\n",
    "from sklearn.model_selection import train_test_split\n",
    "fashion_mnist=keras.datasets.fashion_mnist\n",
    "(train_images,train_labels),(x_test,y_test)=fashion_mnist.load_data()\n",
    "x_train,x_val,y_train,y_val=train_test_split(train_images,train_labels,test_size=0.2)\n",
    "x_train=x_train.reshape(x_train.shape[0],28,28,1)\n",
    "x_test=x_test.reshape(x_test.shape[0],28,28,1)\n",
    "x_val=x_val.reshape(x_val.shape[0],28,28,1)\n",
    "batch_size=512\n",
    "print(x_train.shape)\n",
    "print(x_test.shape)\n",
    "mean_px=x_train.mean().astype(np.float32)\n",
    "std_px=x_train.std().astype(np.float32)\n",
    "def norm_input(x):\n",
    "    return (x-mean_px)/std_px\n",
    "model=Sequential([\n",
    "        Lambda(norm_input,input_shape=(28,28,1)),\n",
    "        Conv2D(32,kernel_size=(3,3),activation='relu',input_shape=(28,28,1)),\n",
    "        BatchNormalization(),\n",
    "        \n",
    "        Conv2D(32,kernel_size=(3,3),activation='relu'),\n",
    "        BatchNormalization(),\n",
    "        Dropout(0.25),\n",
    "        \n",
    "        Conv2D(64,kernel_size=(3,3),activation='relu'),\n",
    "        MaxPooling2D(pool_size=(2,2)),\n",
    "        Dropout(0.25),\n",
    "        \n",
    "        Conv2D(128,kernel_size=(3,3),activation='relu'),\n",
    "        BatchNormalization(),\n",
    "        Dropout(0.25),\n",
    "        \n",
    "        Flatten(),\n",
    "        \n",
    "        Dense(512,activation='relu'),\n",
    "        BatchNormalization(),\n",
    "        Dropout(0.5),\n",
    "        Dense(128,activation='relu'),\n",
    "        BatchNormalization(),\n",
    "        Dropout(0.5),\n",
    "        Dense(10,activation='softmax')\n",
    "        ])\n",
    "model.compile(loss='sparse_categorical_crossentropy',\n",
    "              optimizer=Adam(lr=0.001),\n",
    "              metrics=['accuracy'])\n"
   ]
  },
  {
   "cell_type": "code",
   "execution_count": 7,
   "metadata": {},
   "outputs": [
    {
     "name": "stdout",
     "output_type": "stream",
     "text": [
      "Train on 48000 samples, validate on 12000 samples\n",
      "Epoch 1/5\n",
      "48000/48000 [==============================] - 288s 6ms/step - loss: 0.1666 - acc: 0.9402 - val_loss: 0.2010 - val_acc: 0.9274\n",
      "Epoch 2/5\n",
      "48000/48000 [==============================] - 282s 6ms/step - loss: 0.1574 - acc: 0.9443 - val_loss: 0.1963 - val_acc: 0.9297\n",
      "Epoch 3/5\n",
      "48000/48000 [==============================] - 281s 6ms/step - loss: 0.1521 - acc: 0.9457 - val_loss: 0.1962 - val_acc: 0.9285\n",
      "Epoch 4/5\n",
      "48000/48000 [==============================] - 279s 6ms/step - loss: 0.1460 - acc: 0.9474 - val_loss: 0.1913 - val_acc: 0.9309\n",
      "Epoch 5/5\n",
      "48000/48000 [==============================] - 296s 6ms/step - loss: 0.1424 - acc: 0.9494 - val_loss: 0.1956 - val_acc: 0.9303\n"
     ]
    },
    {
     "data": {
      "text/plain": [
       "<tensorflow.python.keras.callbacks.History at 0x20038c585f8>"
      ]
     },
     "execution_count": 7,
     "metadata": {},
     "output_type": "execute_result"
    }
   ],
   "source": [
    "model.fit(x_train,y_train,batch_size=batch_size,epochs=5,verbose=1,validation_data=(x_val,y_val))"
   ]
  },
  {
   "cell_type": "code",
   "execution_count": 9,
   "metadata": {},
   "outputs": [],
   "source": [
    "model_backup=model\n",
    "model.optimizer.lr=0.0001"
   ]
  },
  {
   "cell_type": "code",
   "execution_count": 10,
   "metadata": {},
   "outputs": [
    {
     "data": {
      "image/png": "[encoded data removed]",
      "text/plain": [
       "<Figure size 432x288 with 9 Axes>"
      ]
     },
     "metadata": {
      "needs_background": "light"
     },
     "output_type": "display_data"
    }
   ],
   "source": [
    "datagen = ImageDataGenerator(rotation_range=8,width_shift_range=0.08,shear_range=0.3,height_shift_range=0.08,zoom_range=0.08)\n",
    "# fit parameters from data\n",
    "datagen.fit(x_train)\n",
    "# configure batch size and retrieve one batch of images\n",
    "for X_batch, y_batch in datagen.flow(x_train, y_train, batch_size=9):\n",
    "# create a grid of 3x3 images\n",
    "    for i in range(0, 9):\n",
    "        plt.subplot(330 + 1 + i)\n",
    "        plt.imshow(X_batch[i].reshape(28, 28), cmap=plt.get_cmap('gray'))\n",
    "# show the plot\n",
    "    plt.show()\n",
    "    break\n"
   ]
  },
  {
   "cell_type": "code",
   "execution_count": 17,
   "metadata": {},
   "outputs": [
    {
     "name": "stdout",
     "output_type": "stream",
     "text": [
      "Epoch 1/10\n",
      "93/93 [==============================] - 310s 3s/step - loss: 0.2976 - acc: 0.8941 - val_loss: 0.2863 - val_acc: 0.8958\n",
      "Epoch 2/10\n",
      "93/93 [==============================] - 284s 3s/step - loss: 0.2882 - acc: 0.8976 - val_loss: 0.2820 - val_acc: 0.8978\n",
      "Epoch 3/10\n",
      "93/93 [==============================] - 283s 3s/step - loss: 0.2897 - acc: 0.8952 - val_loss: 0.2706 - val_acc: 0.9018\n",
      "Epoch 4/10\n",
      "93/93 [==============================] - 278s 3s/step - loss: 0.2849 - acc: 0.8961 - val_loss: 0.2704 - val_acc: 0.9046\n",
      "Epoch 5/10\n",
      "93/93 [==============================] - 279s 3s/step - loss: 0.2844 - acc: 0.8966 - val_loss: 0.2784 - val_acc: 0.9018\n",
      "Epoch 6/10\n",
      "93/93 [==============================] - 280s 3s/step - loss: 0.2791 - acc: 0.9002 - val_loss: 0.2712 - val_acc: 0.9019\n",
      "Epoch 7/10\n",
      "93/93 [==============================] - 279s 3s/step - loss: 0.2774 - acc: 0.8992 - val_loss: 0.2654 - val_acc: 0.9078\n",
      "Epoch 8/10\n",
      "93/93 [==============================] - 279s 3s/step - loss: 0.2734 - acc: 0.9016 - val_loss: 0.2619 - val_acc: 0.9074\n",
      "Epoch 9/10\n",
      "93/93 [==============================] - 295s 3s/step - loss: 0.2733 - acc: 0.8995 - val_loss: 0.2673 - val_acc: 0.9047\n",
      "Epoch 10/10\n",
      "93/93 [==============================] - 278s 3s/step - loss: 0.2688 - acc: 0.9028 - val_loss: 0.2627 - val_acc: 0.9084\n"
     ]
    },
    {
     "data": {
      "text/plain": [
       "<tensorflow.python.keras.callbacks.History at 0x200b4adbf60>"
      ]
     },
     "execution_count": 17,
     "metadata": {},
     "output_type": "execute_result"
    }
   ],
   "source": [
    "batches = datagen.flow(x_train, y_train, batch_size=batch_size)\n",
    "val_batches = datagen.flow(x_val, y_val, batch_size=batch_size)\n",
    "model.fit_generator(batches, steps_per_epoch=48000//batch_size, epochs=10,\n",
    "                    validation_data=val_batches, validation_steps=12000//batch_size, use_multiprocessing=False)"
   ]
  },
  {
   "cell_type": "code",
   "execution_count": 18,
   "metadata": {},
   "outputs": [
    {
     "name": "stdout",
     "output_type": "stream",
     "text": [
      "10000/10000 [==============================] - 7s 713us/step\n"
     ]
    },
    {
     "data": {
      "text/plain": [
       "[0.2031566067546606, 0.9288]"
      ]
     },
     "execution_count": 18,
     "metadata": {},
     "output_type": "execute_result"
    }
   ],
   "source": [
    "model.evaluate(x_test,y_test)"
   ]
  },
  {
   "cell_type": "code",
   "execution_count": 25,
   "metadata": {},
   "outputs": [
    {
     "data": {
      "text/plain": [
       "array([0, 0, 0, 0, 0, 0, 0, 0, 0, 0, 0, 0, 0, 0, 0, 0, 0, 0, 0, 0, 0, 0,\n",
       "       0, 0, 0, 0, 0, 0], dtype=uint8)"
      ]
     },
     "execution_count": 25,
     "metadata": {},
     "output_type": "execute_result"
    }
   ],
   "source": [
    "train_images[0][0]"
   ]
  },
  {
   "cell_type": "code",
   "execution_count": null,
   "metadata": {},
   "outputs": [],
   "source": [
    "def findboundary(image,windowsize):\n",
    "    M=len(image)\n",
    "    N=len(image[0])\n",
    "    #zeropad.\n",
    "    L=N+2*windowsize\n",
    "    for i in range(M):\n",
    "        image[i]=np.concatenate([np.array([0]*windowsize),image[i],np.array([0]*windowsize)])\n",
    "    image=np.vstack([[0]*L]*windowsize,image,[[0]*L]*windowsize)\n",
    "    for i in range(M):\n",
    "        for j in range(N):\n",
    "            f"
   ]
  },
  {
   "cell_type": "code",
   "execution_count": 44,
   "metadata": {},
   "outputs": [
    {
     "data": {
      "text/plain": [
       "array([[1, 2],\n",
       "       [3, 4],\n",
       "       [5, 6],\n",
       "       [7, 8]])"
      ]
     },
     "execution_count": 44,
     "metadata": {},
     "output_type": "execute_result"
    }
   ],
   "source": [
    "np.vstack((a,[[5,6],[7,8]]))"
   ]
  },
  {
   "cell_type": "code",
   "execution_count": 29,
   "metadata": {},
   "outputs": [],
   "source": [
    "a=np.array([[1,2],[3,4]])"
   ]
  },
  {
   "cell_type": "code",
   "execution_count": 45,
   "metadata": {},
   "outputs": [
    {
     "data": {
      "text/plain": [
       "[[0, 0, 0, 0, 0], [0, 0, 0, 0, 0], [0, 0, 0, 0, 0]]"
      ]
     },
     "execution_count": 45,
     "metadata": {},
     "output_type": "execute_result"
    }
   ],
   "source": [
    "[[0]*5]*3"
   ]
  }
 ],
 "metadata": {
  "kernelspec": {
   "display_name": "Python 3",
   "language": "python",
   "name": "python3"
  },
  "language_info": {
   "codemirror_mode": {
    "name": "ipython",
    "version": 3
   },
   "file_extension": ".py",
   "mimetype": "text/x-python",
   "name": "python",
   "nbconvert_exporter": "python",
   "pygments_lexer": "ipython3",
   "version": "3.7.0"
  }
 },
 "nbformat": 4,
 "nbformat_minor": 2
}
